{
 "metadata": {
  "name": "",
  "signature": "sha256:d78443747cf6836c891dd9f5f3da66644120cbae8806b4923cbe3eeb89f1db45"
 },
 "nbformat": 3,
 "nbformat_minor": 0,
 "worksheets": [
  {
   "cells": [
    {
     "cell_type": "code",
     "collapsed": false,
     "input": [
      "from mtclim import MtClim\n",
      "from mtclim.test.load_daymet_data import load_daymet_example"
     ],
     "language": "python",
     "metadata": {},
     "outputs": [],
     "prompt_number": 1
    },
    {
     "cell_type": "code",
     "collapsed": false,
     "input": [
      "# Load some example data\n",
      "df = load_daymet_example(fname='../mtclim/test/data/daymet_seattle.csv')"
     ],
     "language": "python",
     "metadata": {},
     "outputs": [],
     "prompt_number": 2
    },
    {
     "cell_type": "code",
     "collapsed": false,
     "input": [
      "# Inialize an MtClim object\n",
      "mt = MtClim(data=df[['tmax', 'tmin', 'prcp']])\n",
      "mt.data.head()"
     ],
     "language": "python",
     "metadata": {},
     "outputs": [
      {
       "html": [
        "<div style=\"max-height:1000px;max-width:1500px;overflow:auto;\">\n",
        "<table border=\"1\" class=\"dataframe\">\n",
        "  <thead>\n",
        "    <tr style=\"text-align: right;\">\n",
        "      <th></th>\n",
        "      <th>tmax</th>\n",
        "      <th>tmin</th>\n",
        "      <th>prcp</th>\n",
        "    </tr>\n",
        "    <tr>\n",
        "      <th>datetime</th>\n",
        "      <th></th>\n",
        "      <th></th>\n",
        "      <th></th>\n",
        "    </tr>\n",
        "  </thead>\n",
        "  <tbody>\n",
        "    <tr>\n",
        "      <th>1980-01-01</th>\n",
        "      <td> 11.5</td>\n",
        "      <td> 6.5</td>\n",
        "      <td> 6</td>\n",
        "    </tr>\n",
        "    <tr>\n",
        "      <th>1980-01-02</th>\n",
        "      <td> 10.0</td>\n",
        "      <td> 4.0</td>\n",
        "      <td> 5</td>\n",
        "    </tr>\n",
        "    <tr>\n",
        "      <th>1980-01-03</th>\n",
        "      <td>  8.5</td>\n",
        "      <td> 1.0</td>\n",
        "      <td> 3</td>\n",
        "    </tr>\n",
        "    <tr>\n",
        "      <th>1980-01-04</th>\n",
        "      <td>  6.0</td>\n",
        "      <td> 1.0</td>\n",
        "      <td> 2</td>\n",
        "    </tr>\n",
        "    <tr>\n",
        "      <th>1980-01-05</th>\n",
        "      <td>  4.5</td>\n",
        "      <td>-1.0</td>\n",
        "      <td> 4</td>\n",
        "    </tr>\n",
        "  </tbody>\n",
        "</table>\n",
        "</div>"
       ],
       "metadata": {},
       "output_type": "pyout",
       "prompt_number": 3,
       "text": [
        "            tmax  tmin  prcp\n",
        "datetime                    \n",
        "1980-01-01  11.5   6.5     6\n",
        "1980-01-02  10.0   4.0     5\n",
        "1980-01-03   8.5   1.0     3\n",
        "1980-01-04   6.0   1.0     2\n",
        "1980-01-05   4.5  -1.0     4"
       ]
      }
     ],
     "prompt_number": 3
    },
    {
     "cell_type": "code",
     "collapsed": false,
     "input": [
      "# Off to the races...\n",
      "mt.calc_tair()\n",
      "mt.calc_prcp()"
     ],
     "language": "python",
     "metadata": {},
     "outputs": [],
     "prompt_number": 4
    },
    {
     "cell_type": "code",
     "collapsed": false,
     "input": [
      "mt.data.head()"
     ],
     "language": "python",
     "metadata": {},
     "outputs": [
      {
       "html": [
        "<div style=\"max-height:1000px;max-width:1500px;overflow:auto;\">\n",
        "<table border=\"1\" class=\"dataframe\">\n",
        "  <thead>\n",
        "    <tr style=\"text-align: right;\">\n",
        "      <th></th>\n",
        "      <th>tmax</th>\n",
        "      <th>tmin</th>\n",
        "      <th>prcp</th>\n",
        "      <th>s_tmax</th>\n",
        "      <th>s_tmin</th>\n",
        "      <th>s_tday</th>\n",
        "      <th>s_prcp</th>\n",
        "    </tr>\n",
        "    <tr>\n",
        "      <th>datetime</th>\n",
        "      <th></th>\n",
        "      <th></th>\n",
        "      <th></th>\n",
        "      <th></th>\n",
        "      <th></th>\n",
        "      <th></th>\n",
        "      <th></th>\n",
        "    </tr>\n",
        "  </thead>\n",
        "  <tbody>\n",
        "    <tr>\n",
        "      <th>1980-01-01</th>\n",
        "      <td> 11.5</td>\n",
        "      <td> 6.5</td>\n",
        "      <td> 6</td>\n",
        "      <td> 11.5</td>\n",
        "      <td> 6.5</td>\n",
        "      <td> 10.1250</td>\n",
        "      <td> 6</td>\n",
        "    </tr>\n",
        "    <tr>\n",
        "      <th>1980-01-02</th>\n",
        "      <td> 10.0</td>\n",
        "      <td> 4.0</td>\n",
        "      <td> 5</td>\n",
        "      <td> 10.0</td>\n",
        "      <td> 4.0</td>\n",
        "      <td>  8.3500</td>\n",
        "      <td> 5</td>\n",
        "    </tr>\n",
        "    <tr>\n",
        "      <th>1980-01-03</th>\n",
        "      <td>  8.5</td>\n",
        "      <td> 1.0</td>\n",
        "      <td> 3</td>\n",
        "      <td>  8.5</td>\n",
        "      <td> 1.0</td>\n",
        "      <td>  6.4375</td>\n",
        "      <td> 3</td>\n",
        "    </tr>\n",
        "    <tr>\n",
        "      <th>1980-01-04</th>\n",
        "      <td>  6.0</td>\n",
        "      <td> 1.0</td>\n",
        "      <td> 2</td>\n",
        "      <td>  6.0</td>\n",
        "      <td> 1.0</td>\n",
        "      <td>  4.6250</td>\n",
        "      <td> 2</td>\n",
        "    </tr>\n",
        "    <tr>\n",
        "      <th>1980-01-05</th>\n",
        "      <td>  4.5</td>\n",
        "      <td>-1.0</td>\n",
        "      <td> 4</td>\n",
        "      <td>  4.5</td>\n",
        "      <td>-1.0</td>\n",
        "      <td>  2.9875</td>\n",
        "      <td> 4</td>\n",
        "    </tr>\n",
        "  </tbody>\n",
        "</table>\n",
        "</div>"
       ],
       "metadata": {},
       "output_type": "pyout",
       "prompt_number": 5,
       "text": [
        "            tmax  tmin  prcp  s_tmax  s_tmin   s_tday  s_prcp\n",
        "datetime                                                     \n",
        "1980-01-01  11.5   6.5     6    11.5     6.5  10.1250       6\n",
        "1980-01-02  10.0   4.0     5    10.0     4.0   8.3500       5\n",
        "1980-01-03   8.5   1.0     3     8.5     1.0   6.4375       3\n",
        "1980-01-04   6.0   1.0     2     6.0     1.0   4.6250       2\n",
        "1980-01-05   4.5  -1.0     4     4.5    -1.0   2.9875       4"
       ]
      }
     ],
     "prompt_number": 5
    }
   ],
   "metadata": {}
  }
 ]
}